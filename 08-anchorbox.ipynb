{
 "cells": [
  {
   "cell_type": "code",
   "execution_count": 1,
   "id": "e49ce764",
   "metadata": {},
   "outputs": [],
   "source": [
    "import matplotlib.pyplot as plt\n",
    "import numpy as np\n",
    "import cv2\n",
    "%matplotlib inline"
   ]
  },
  {
   "cell_type": "code",
   "execution_count": 2,
   "id": "cb11be6e",
   "metadata": {},
   "outputs": [],
   "source": [
    "aspect_ratios = [0.5, 1.0, 2.0]\n",
    "areas = [x ** 2 for x in [32.0, 64.0, 128.0, 256.0, 512.0]]\n",
    "scales = [2 ** x for x in [0, 1 / 3, 2 / 3]]"
   ]
  },
  {
   "cell_type": "code",
   "execution_count": 3,
   "id": "da38b335",
   "metadata": {},
   "outputs": [],
   "source": [
    "def compute_dims():\n",
    "    \"\"\"Computes anchor box dimensions for all ratios and scales at all levels\n",
    "    of the feature pyramid.\n",
    "    \"\"\"\n",
    "    anchor_dims_all = []\n",
    "    for area in areas:\n",
    "        anchor_dims = []\n",
    "        for ratio in aspect_ratios:\n",
    "            anchor_height = np.math.sqrt(area / ratio)\n",
    "            anchor_width = area / anchor_height\n",
    "            dims = np.reshape(\n",
    "                np.stack([anchor_width, anchor_height], axis=-1), [1, 1, 2]\n",
    "            )\n",
    "            for scale in scales:\n",
    "                anchor_dims.append(scale * dims)\n",
    "        anchor_dims_all.append(np.stack(anchor_dims, axis=-2))\n",
    "    return anchor_dims_all"
   ]
  },
  {
   "cell_type": "code",
   "execution_count": 4,
   "id": "a65bf027",
   "metadata": {},
   "outputs": [],
   "source": [
    "anchor_dims = compute_dims()"
   ]
  },
  {
   "cell_type": "code",
   "execution_count": 5,
   "id": "1c9b72bf",
   "metadata": {},
   "outputs": [
    {
     "data": {
      "text/plain": [
       "9"
      ]
     },
     "execution_count": 5,
     "metadata": {},
     "output_type": "execute_result"
    }
   ],
   "source": [
    "num_anchors = len(aspect_ratios) * len(scales)\n",
    "num_anchors"
   ]
  },
  {
   "cell_type": "code",
   "execution_count": 6,
   "id": "ef0f6660",
   "metadata": {},
   "outputs": [
    {
     "data": {
      "text/plain": [
       "[8, 16, 32, 64, 128]"
      ]
     },
     "execution_count": 6,
     "metadata": {},
     "output_type": "execute_result"
    }
   ],
   "source": [
    "strides = [2 ** i for i in range(3, 8)]\n",
    "strides"
   ]
  },
  {
   "cell_type": "code",
   "execution_count": 87,
   "id": "1e59d0da",
   "metadata": {},
   "outputs": [
    {
     "name": "stdout",
     "output_type": "stream",
     "text": [
      "feature_height: 25\n",
      "stride: 32\n"
     ]
    }
   ],
   "source": [
    "input_image = 800\n",
    "level = 5\n",
    "stride = strides[level - 3] \n",
    "feature_height = np.math.ceil(input_image / 2**level)\n",
    "print(\"feature_height:\", feature_height)\n",
    "print(\"stride:\", stride)"
   ]
  },
  {
   "cell_type": "code",
   "execution_count": 88,
   "id": "0fa87c24",
   "metadata": {},
   "outputs": [
    {
     "data": {
      "text/plain": [
       "(25, 25, 2)"
      ]
     },
     "execution_count": 88,
     "metadata": {},
     "output_type": "execute_result"
    }
   ],
   "source": [
    "rx = np.arange(feature_height, dtype=np.float32) + 0.5\n",
    "ry = np.arange(feature_height, dtype=np.float32) + 0.5 #for simplicity concider w=h\n",
    "centers = np.stack(np.meshgrid(rx, ry), axis=-1)*stride\n",
    "centers.shape"
   ]
  },
  {
   "cell_type": "code",
   "execution_count": 89,
   "id": "b9442d81",
   "metadata": {},
   "outputs": [
    {
     "data": {
      "text/plain": [
       "<matplotlib.image.AxesImage at 0x1ecb25b9808>"
      ]
     },
     "execution_count": 89,
     "metadata": {},
     "output_type": "execute_result"
    },
    {
     "data": {
      "image/png": "[encoded data removed]",
      "text/plain": [
       "<Figure size 432x288 with 1 Axes>"
      ]
     },
     "metadata": {
      "needs_background": "light"
     },
     "output_type": "display_data"
    }
   ],
   "source": [
    "img = np.zeros([800,800,3], dtype='uint8')\n",
    "for i in range(feature_height):\n",
    "    for j in range(feature_height):\n",
    "        x = int(centers[i, j, 0])\n",
    "        y = int(centers[i, j, 1])\n",
    "        point = (x, y)\n",
    "        cv2.circle(img, point, 4, (255,0,0), -1)\n",
    "plt.imshow(img)"
   ]
  },
  {
   "cell_type": "code",
   "execution_count": 90,
   "id": "a69b5364",
   "metadata": {},
   "outputs": [
    {
     "data": {
      "text/plain": [
       "(25, 25, 1, 2)"
      ]
     },
     "execution_count": 90,
     "metadata": {},
     "output_type": "execute_result"
    }
   ],
   "source": [
    "centers = np.expand_dims(centers, axis=-2)\n",
    "centers.shape"
   ]
  },
  {
   "cell_type": "code",
   "execution_count": 91,
   "id": "e3e0c71d",
   "metadata": {},
   "outputs": [
    {
     "data": {
      "text/plain": [
       "(25, 25, 9, 2)"
      ]
     },
     "execution_count": 91,
     "metadata": {},
     "output_type": "execute_result"
    }
   ],
   "source": [
    "centers = np.tile(centers, [1, 1, num_anchors, 1])\n",
    "centers.shape"
   ]
  },
  {
   "cell_type": "code",
   "execution_count": 92,
   "id": "72c9b916",
   "metadata": {},
   "outputs": [
    {
     "data": {
      "text/plain": [
       "(25, 25, 9, 2)"
      ]
     },
     "execution_count": 92,
     "metadata": {},
     "output_type": "execute_result"
    }
   ],
   "source": [
    "dims = np.tile(\n",
    "            anchor_dims[level - 3], [25, 25, 1, 1]\n",
    "        )\n",
    "dims.shape"
   ]
  },
  {
   "cell_type": "code",
   "execution_count": 104,
   "id": "3a8f56d6",
   "metadata": {},
   "outputs": [
    {
     "data": {
      "text/plain": [
       "<matplotlib.image.AxesImage at 0x1ecb5060dc8>"
      ]
     },
     "execution_count": 104,
     "metadata": {},
     "output_type": "execute_result"
    },
    {
     "data": {
      "image/png": "[encoded data removed]",
      "text/plain": [
       "<Figure size 432x288 with 1 Axes>"
      ]
     },
     "metadata": {
      "needs_background": "light"
     },
     "output_type": "display_data"
    }
   ],
   "source": [
    "import cv2\n",
    "import numpy as np\n",
    "img = np.zeros([800,800,3], dtype='uint8')\n",
    "\n",
    "for k in range(9):\n",
    "    color = list(np.random.random(size=3) * 256)\n",
    "    x1=int(centers[5,5,k,0]-dims[5,5,k,0]/2)\n",
    "    y1=int(centers[5,5,k,1]-dims[5,5,k,1]/2)\n",
    "    x2=int(centers[5,5,k,0]+dims[5,5,k,0]/2)\n",
    "    y2=int(centers[5,5,k,1]+dims[5,5,k,1]/2)\n",
    "    cv2.rectangle(img,(x1,y1), (x2,y2), color,5)\n",
    "plt.imshow(img)"
   ]
  },
  {
   "cell_type": "code",
   "execution_count": 106,
   "id": "73bebf39",
   "metadata": {},
   "outputs": [
    {
     "data": {
      "text/plain": [
       "(25, 25, 9, 4)"
      ]
     },
     "execution_count": 106,
     "metadata": {},
     "output_type": "execute_result"
    }
   ],
   "source": [
    "anchors = np.concatenate([centers, dims], axis=-1)\n",
    "anchors.shape"
   ]
  },
  {
   "cell_type": "code",
   "execution_count": 107,
   "id": "8a51795b",
   "metadata": {},
   "outputs": [],
   "source": [
    "def _get_anchors(feature_height, feature_width, level):\n",
    "    \"\"\"Generates anchor boxes for a given feature map size and level\n",
    "\n",
    "    Arguments:\n",
    "      feature_height: An integer representing the height of the feature map.\n",
    "      feature_width: An integer representing the width of the feature map.\n",
    "      level: An integer representing the level of the feature map in the\n",
    "        feature pyramid.\n",
    "\n",
    "    Returns:\n",
    "      anchor boxes with the shape\n",
    "      `(feature_height * feature_width * num_anchors, 4)`\n",
    "    \"\"\"\n",
    "    rx = np.arange(feature_width, dtype=np.float32) + 0.5\n",
    "    ry = np.arange(feature_height, dtype=np.float32) + 0.5\n",
    "    centers = np.stack(np.meshgrid(rx, ry), axis=-1) * strides[level - 3]\n",
    "    centers = np.expand_dims(centers, axis=-2)\n",
    "    centers = np.tile(centers, [1, 1, num_anchors, 1])\n",
    "    dims = np.tile(\n",
    "        anchor_dims[level - 3], [feature_height, feature_width, 1, 1]\n",
    "    )\n",
    "    anchors = np.concatenate([centers, dims], axis=-1)\n",
    "    return np.reshape(\n",
    "        anchors, [feature_height * feature_width * num_anchors, 4]\n",
    "    )"
   ]
  },
  {
   "cell_type": "code",
   "execution_count": 108,
   "id": "7f6d3cd5",
   "metadata": {},
   "outputs": [],
   "source": [
    "def get_anchors(image_height, image_width):\n",
    "        \"\"\"Generates anchor boxes for all the feature maps of the feature pyramid.\n",
    "\n",
    "        Arguments:\n",
    "          image_height: Height of the input image.\n",
    "          image_width: Width of the input image.\n",
    "\n",
    "        Returns:\n",
    "          anchor boxes for all the feature maps, stacked as a single tensor\n",
    "            with shape `(total_anchors, 4)`\n",
    "        \"\"\"\n",
    "        anchors = [\n",
    "            _get_anchors(\n",
    "                np.math.ceil(image_height / 2 ** i),\n",
    "                np.math.ceil(image_width / 2 ** i),\n",
    "                i,\n",
    "            )\n",
    "            for i in range(3, 8)\n",
    "        ]\n",
    "        return np.concatenate(anchors, axis=0)"
   ]
  },
  {
   "cell_type": "code",
   "execution_count": 109,
   "id": "c05455f9",
   "metadata": {},
   "outputs": [
    {
     "data": {
      "text/plain": [
       "(120087, 4)"
      ]
     },
     "execution_count": 109,
     "metadata": {},
     "output_type": "execute_result"
    }
   ],
   "source": [
    "all_anchors = get_anchors(800,800)\n",
    "all_anchors.shape"
   ]
  },
  {
   "cell_type": "code",
   "execution_count": null,
   "id": "8635cbe3",
   "metadata": {},
   "outputs": [],
   "source": []
  }
 ],
 "metadata": {
  "kernelspec": {
   "display_name": "tf23",
   "language": "python",
   "name": "tf23"
  },
  "language_info": {
   "codemirror_mode": {
    "name": "ipython",
    "version": 3
   },
   "file_extension": ".py",
   "mimetype": "text/x-python",
   "name": "python",
   "nbconvert_exporter": "python",
   "pygments_lexer": "ipython3",
   "version": "3.7.9"
  }
 },
 "nbformat": 4,
 "nbformat_minor": 5
}
